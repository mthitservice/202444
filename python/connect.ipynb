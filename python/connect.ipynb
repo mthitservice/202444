{
 "cells": [
  {
   "cell_type": "markdown",
   "metadata": {},
   "source": [
    "# Verbindung zu elasticsearch"
   ]
  },
  {
   "cell_type": "code",
   "execution_count": 3,
   "metadata": {},
   "outputs": [
    {
     "data": {
      "text/plain": [
       "{'name': 'es01',\n",
       " 'cluster_name': 'docker-cluster',\n",
       " 'cluster_uuid': 'hVMplK85SQGXVAkp3s3BfQ',\n",
       " 'version': {'number': '8.7.1',\n",
       "  'build_flavor': 'default',\n",
       "  'build_type': 'docker',\n",
       "  'build_hash': 'f229ed3f893a515d590d0f39b05f68913e2d9b53',\n",
       "  'build_date': '2023-04-27T04:33:42.127815583Z',\n",
       "  'build_snapshot': False,\n",
       "  'lucene_version': '9.5.0',\n",
       "  'minimum_wire_compatibility_version': '7.17.0',\n",
       "  'minimum_index_compatibility_version': '7.0.0'},\n",
       " 'tagline': 'You Know, for Search'}"
      ]
     },
     "execution_count": 3,
     "metadata": {},
     "output_type": "execute_result"
    }
   ],
   "source": [
    "from elasticsearch import Elasticsearch \n",
    "\n",
    "API_KEY=\"MUZsY3lwSUJyREVzOWVqdmlFTHo6aTNoOFhnWlRTXzZqb0d1dXBEeW9FUQ==\"\n",
    "\n",
    "client=Elasticsearch(\"https://localhost:9200/\",api_key=API_KEY ,)\n",
    "client.info().body"
   ]
  },
  {
   "cell_type": "code",
   "execution_count": 4,
   "metadata": {},
   "outputs": [
    {
     "name": "stdout",
     "output_type": "stream",
     "text": [
      "       Unique ID  Indicator ID                  Name Measure Measure Info  \\\n",
      "0         216498           386            Ozone (O3)    Mean          ppb   \n",
      "1         216499           386            Ozone (O3)    Mean          ppb   \n",
      "2         219969           386            Ozone (O3)    Mean          ppb   \n",
      "3         219970           386            Ozone (O3)    Mean          ppb   \n",
      "4         164876           383  Sulfur Dioxide (SO2)    Mean          ppb   \n",
      "...          ...           ...                   ...     ...          ...   \n",
      "16117     671118           386            Ozone (O3)    Mean          ppb   \n",
      "16118     671119           386            Ozone (O3)    Mean          ppb   \n",
      "16119     671120           386            Ozone (O3)    Mean          ppb   \n",
      "16120     671121           386            Ozone (O3)    Mean          ppb   \n",
      "16121     671122           386            Ozone (O3)    Mean          ppb   \n",
      "\n",
      "      Geo Type Name  Geo Join ID                          Geo Place Name  \\\n",
      "0                CD          313                     Coney Island (CD13)   \n",
      "1                CD          313                     Coney Island (CD13)   \n",
      "2           Borough            1                                   Bronx   \n",
      "3           Borough            1                                   Bronx   \n",
      "4                CD          211        Morris Park and Bronxdale (CD11)   \n",
      "...             ...          ...                                     ...   \n",
      "16117            CD          306    Park Slope and Carroll Gardens (CD6)   \n",
      "16118            CD          305   East New York and Starrett City (CD5)   \n",
      "16119            CD          304                          Bushwick (CD4)   \n",
      "16120            CD          303                Bedford Stuyvesant (CD3)   \n",
      "16121            CD          302  Fort Greene and Brooklyn Heights (CD2)   \n",
      "\n",
      "          Time Period  Start_Date  Data Value  Message  \n",
      "0         Summer 2013  06/01/2013       34.64      NaN  \n",
      "1         Summer 2014  06/01/2014       33.22      NaN  \n",
      "2         Summer 2013  06/01/2013       31.25      NaN  \n",
      "3         Summer 2014  06/01/2014       31.15      NaN  \n",
      "4      Winter 2008-09  12/01/2008        5.89      NaN  \n",
      "...               ...         ...         ...      ...  \n",
      "16117     Summer 2020  06/01/2020       28.70      NaN  \n",
      "16118     Summer 2020  06/01/2020       29.56      NaN  \n",
      "16119     Summer 2020  06/01/2020       29.65      NaN  \n",
      "16120     Summer 2020  06/01/2020       29.28      NaN  \n",
      "16121     Summer 2020  06/01/2020       28.93      NaN  \n",
      "\n",
      "[16122 rows x 12 columns]\n"
     ]
    }
   ],
   "source": [
    "import pandas as pd\n",
    "\n",
    "df=(\n",
    "   pd.read_csv(\"data/air_qual.csv\")  \n",
    ")\n",
    "print(df)"
   ]
  },
  {
   "cell_type": "code",
   "execution_count": 5,
   "metadata": {},
   "outputs": [
    {
     "name": "stdout",
     "output_type": "stream",
     "text": [
      "      index  Release Year                    Title Origin/Ethnicity  \\\n",
      "0     10286          1984               Songwriter         American   \n",
      "1     28335          2012    Da Thadiya (ഡാ തടിയാ)        Malayalam   \n",
      "2     10742          1987                 Ironweed         American   \n",
      "3     28533          2015               Kaliyachan        Malayalam   \n",
      "4     24808          1971              Kati Patang        Bollywood   \n",
      "...     ...           ...                      ...              ...   \n",
      "4995  23671          2010               Triple Tap        Hong Kong   \n",
      "4996  14874          2006          Dance Party USA         American   \n",
      "4997   3015          1941      Caught in the Draft         American   \n",
      "4998  15350          2007  Suffering Man's Charity         American   \n",
      "4999  23728          2014         Temporary Family        Hong Kong   \n",
      "\n",
      "                 Director                                               Cast  \\\n",
      "0            Alan Rudolph  Willie Nelson, Kris Kristofferson, Melinda Dillon   \n",
      "1              Aashiq Abu  Shekhar Menon, Ann Augustine, Sreenath Bhasi, ...   \n",
      "2          Héctor Babenco  Jack Nicholson, Meryl Streep, Tom Waits, Fred ...   \n",
      "3     Farooq Abdul Rahman                           Manoj K Jayan, and Vaiga   \n",
      "4          Shakti Samanta                         Rajesh Khanna, Asha Parekh   \n",
      "...                   ...                                                ...   \n",
      "4995            Derek Yee  Louis Koo, Daniel Wu, Charlene Choi, Li Bingbi...   \n",
      "4996           Aaron Katz             Cole Pensinger, Anna Kavan, Ryan White   \n",
      "4997         David Butler                           Bob Hope, Dorothy Lamour   \n",
      "4998         Alan Cumming                       Alan Cumming, David Boreanaz   \n",
      "4999        Cheuk Wan-chi  Nick Cheung, Sammi Cheng, Angelababy, Jacky Ch...   \n",
      "\n",
      "                Genre                                          Wiki Page  \\\n",
      "0               drama  https://en.wikipedia.org/wiki/Songwriter_(1984...   \n",
      "1     romance, comedy           https://en.wikipedia.org/wiki/Da_Thadiya   \n",
      "2               drama      https://en.wikipedia.org/wiki/Ironweed_(film)   \n",
      "3               drama           https://en.wikipedia.org/wiki/Kaliyachan   \n",
      "4             romance  https://en.wikipedia.org/wiki/Kati_Patang_(197...   \n",
      "...               ...                                                ...   \n",
      "4995   action / crime           https://en.wikipedia.org/wiki/Triple_Tap   \n",
      "4996            drama  https://en.wikipedia.org/wiki/Dance_Party_USA_...   \n",
      "4997           comedy  https://en.wikipedia.org/wiki/Caught_in_the_Draft   \n",
      "4998           comedy  https://en.wikipedia.org/wiki/Suffering_Man%27...   \n",
      "4999  romantic-comedy     https://en.wikipedia.org/wiki/Temporary_Family   \n",
      "\n",
      "                                                   Plot  \n",
      "0     The film concerns Doc Jenkins, (Willie Nelson)...  \n",
      "1     The film tells the love story of an obese yout...  \n",
      "2     Francis Phelan (Jack Nicholson) is a washed-up...  \n",
      "3     The film is about the Kathakali actor, Kunhira...  \n",
      "4     Madhavi \"Madhu\" (Asha Parekh) is an orphan liv...  \n",
      "...                                                 ...  \n",
      "4995  Champion competitive marksman Ken comes across...  \n",
      "4996  Apathetic 17-year-old Gus spends most of his t...  \n",
      "4997  Famous Hollywood actor Don Bolton (Hope) is a ...  \n",
      "4998  John, an eccentric music teacher, takes in Seb...  \n",
      "4999  Hong Siu Long proposes to his girlfriend, but ...  \n",
      "\n",
      "[5000 rows x 9 columns]\n"
     ]
    }
   ],
   "source": [
    "import pandas as pd\n",
    "\n",
    "df=(\n",
    "   pd.read_csv(\"data/movies.csv\")  \n",
    "   .dropna()\n",
    "   .sample(5000,random_state=42)\n",
    "   .reset_index()\n",
    "\n",
    ")\n",
    "print(df)"
   ]
  },
  {
   "cell_type": "code",
   "execution_count": 6,
   "metadata": {},
   "outputs": [
    {
     "ename": "BadRequestError",
     "evalue": "BadRequestError(400, 'resource_already_exists_exception', 'index [movies/-VRJsezTTsewvPBf3g-wtA] already exists')",
     "output_type": "error",
     "traceback": [
      "\u001b[1;31m---------------------------------------------------------------------------\u001b[0m",
      "\u001b[1;31mBadRequestError\u001b[0m                           Traceback (most recent call last)",
      "Cell \u001b[1;32mIn[6], line 13\u001b[0m\n\u001b[0;32m      1\u001b[0m mappings\u001b[38;5;241m=\u001b[39m{\n\u001b[0;32m      2\u001b[0m     \u001b[38;5;124m\"\u001b[39m\u001b[38;5;124mproperties\u001b[39m\u001b[38;5;124m\"\u001b[39m:{\n\u001b[0;32m      3\u001b[0m             \u001b[38;5;124m\"\u001b[39m\u001b[38;5;124mtitle\u001b[39m\u001b[38;5;124m\"\u001b[39m:{\u001b[38;5;124m\"\u001b[39m\u001b[38;5;124mtype\u001b[39m\u001b[38;5;124m\"\u001b[39m:\u001b[38;5;124m\"\u001b[39m\u001b[38;5;124mtext\u001b[39m\u001b[38;5;124m\"\u001b[39m, \u001b[38;5;124m\"\u001b[39m\u001b[38;5;124manalyzer\u001b[39m\u001b[38;5;124m\"\u001b[39m:\u001b[38;5;124m\"\u001b[39m\u001b[38;5;124menglish\u001b[39m\u001b[38;5;124m\"\u001b[39m},\n\u001b[1;32m   (...)\u001b[0m\n\u001b[0;32m     11\u001b[0m             }\n\u001b[0;32m     12\u001b[0m }\n\u001b[1;32m---> 13\u001b[0m \u001b[43mclient\u001b[49m\u001b[38;5;241;43m.\u001b[39;49m\u001b[43mindices\u001b[49m\u001b[38;5;241;43m.\u001b[39;49m\u001b[43mcreate\u001b[49m\u001b[43m(\u001b[49m\u001b[43mindex\u001b[49m\u001b[38;5;241;43m=\u001b[39;49m\u001b[38;5;124;43m\"\u001b[39;49m\u001b[38;5;124;43mmovies\u001b[39;49m\u001b[38;5;124;43m\"\u001b[39;49m\u001b[43m \u001b[49m\u001b[43m,\u001b[49m\u001b[43mmappings\u001b[49m\u001b[38;5;241;43m=\u001b[39;49m\u001b[43mmappings\u001b[49m\u001b[43m)\u001b[49m\n",
      "File \u001b[1;32m~\\AppData\\Roaming\\Python\\Python312\\site-packages\\elasticsearch\\_sync\\client\\utils.py:446\u001b[0m, in \u001b[0;36m_rewrite_parameters.<locals>.wrapper.<locals>.wrapped\u001b[1;34m(*args, **kwargs)\u001b[0m\n\u001b[0;32m    443\u001b[0m         \u001b[38;5;28;01mexcept\u001b[39;00m \u001b[38;5;167;01mKeyError\u001b[39;00m:\n\u001b[0;32m    444\u001b[0m             \u001b[38;5;28;01mpass\u001b[39;00m\n\u001b[1;32m--> 446\u001b[0m \u001b[38;5;28;01mreturn\u001b[39;00m \u001b[43mapi\u001b[49m\u001b[43m(\u001b[49m\u001b[38;5;241;43m*\u001b[39;49m\u001b[43margs\u001b[49m\u001b[43m,\u001b[49m\u001b[43m \u001b[49m\u001b[38;5;241;43m*\u001b[39;49m\u001b[38;5;241;43m*\u001b[39;49m\u001b[43mkwargs\u001b[49m\u001b[43m)\u001b[49m\n",
      "File \u001b[1;32m~\\AppData\\Roaming\\Python\\Python312\\site-packages\\elasticsearch\\_sync\\client\\indices.py:545\u001b[0m, in \u001b[0;36mIndicesClient.create\u001b[1;34m(self, index, aliases, error_trace, filter_path, human, mappings, master_timeout, pretty, settings, timeout, wait_for_active_shards, body)\u001b[0m\n\u001b[0;32m    543\u001b[0m \u001b[38;5;28;01mif\u001b[39;00m __body \u001b[38;5;129;01mis\u001b[39;00m \u001b[38;5;129;01mnot\u001b[39;00m \u001b[38;5;28;01mNone\u001b[39;00m:\n\u001b[0;32m    544\u001b[0m     __headers[\u001b[38;5;124m\"\u001b[39m\u001b[38;5;124mcontent-type\u001b[39m\u001b[38;5;124m\"\u001b[39m] \u001b[38;5;241m=\u001b[39m \u001b[38;5;124m\"\u001b[39m\u001b[38;5;124mapplication/json\u001b[39m\u001b[38;5;124m\"\u001b[39m\n\u001b[1;32m--> 545\u001b[0m \u001b[38;5;28;01mreturn\u001b[39;00m \u001b[38;5;28;43mself\u001b[39;49m\u001b[38;5;241;43m.\u001b[39;49m\u001b[43mperform_request\u001b[49m\u001b[43m(\u001b[49m\u001b[43m  \u001b[49m\u001b[38;5;66;43;03m# type: ignore[return-value]\u001b[39;49;00m\n\u001b[0;32m    546\u001b[0m \u001b[43m    \u001b[49m\u001b[38;5;124;43m\"\u001b[39;49m\u001b[38;5;124;43mPUT\u001b[39;49m\u001b[38;5;124;43m\"\u001b[39;49m\u001b[43m,\u001b[49m\n\u001b[0;32m    547\u001b[0m \u001b[43m    \u001b[49m\u001b[43m__path\u001b[49m\u001b[43m,\u001b[49m\n\u001b[0;32m    548\u001b[0m \u001b[43m    \u001b[49m\u001b[43mparams\u001b[49m\u001b[38;5;241;43m=\u001b[39;49m\u001b[43m__query\u001b[49m\u001b[43m,\u001b[49m\n\u001b[0;32m    549\u001b[0m \u001b[43m    \u001b[49m\u001b[43mheaders\u001b[49m\u001b[38;5;241;43m=\u001b[39;49m\u001b[43m__headers\u001b[49m\u001b[43m,\u001b[49m\n\u001b[0;32m    550\u001b[0m \u001b[43m    \u001b[49m\u001b[43mbody\u001b[49m\u001b[38;5;241;43m=\u001b[39;49m\u001b[43m__body\u001b[49m\u001b[43m,\u001b[49m\n\u001b[0;32m    551\u001b[0m \u001b[43m    \u001b[49m\u001b[43mendpoint_id\u001b[49m\u001b[38;5;241;43m=\u001b[39;49m\u001b[38;5;124;43m\"\u001b[39;49m\u001b[38;5;124;43mindices.create\u001b[39;49m\u001b[38;5;124;43m\"\u001b[39;49m\u001b[43m,\u001b[49m\n\u001b[0;32m    552\u001b[0m \u001b[43m    \u001b[49m\u001b[43mpath_parts\u001b[49m\u001b[38;5;241;43m=\u001b[39;49m\u001b[43m__path_parts\u001b[49m\u001b[43m,\u001b[49m\n\u001b[0;32m    553\u001b[0m \u001b[43m\u001b[49m\u001b[43m)\u001b[49m\n",
      "File \u001b[1;32m~\\AppData\\Roaming\\Python\\Python312\\site-packages\\elasticsearch\\_sync\\client\\_base.py:423\u001b[0m, in \u001b[0;36mNamespacedClient.perform_request\u001b[1;34m(self, method, path, params, headers, body, endpoint_id, path_parts)\u001b[0m\n\u001b[0;32m    410\u001b[0m \u001b[38;5;28;01mdef\u001b[39;00m \u001b[38;5;21mperform_request\u001b[39m(\n\u001b[0;32m    411\u001b[0m     \u001b[38;5;28mself\u001b[39m,\n\u001b[0;32m    412\u001b[0m     method: \u001b[38;5;28mstr\u001b[39m,\n\u001b[1;32m   (...)\u001b[0m\n\u001b[0;32m    421\u001b[0m     \u001b[38;5;66;03m# Use the internal clients .perform_request() implementation\u001b[39;00m\n\u001b[0;32m    422\u001b[0m     \u001b[38;5;66;03m# so we take advantage of their transport options.\u001b[39;00m\n\u001b[1;32m--> 423\u001b[0m     \u001b[38;5;28;01mreturn\u001b[39;00m \u001b[38;5;28;43mself\u001b[39;49m\u001b[38;5;241;43m.\u001b[39;49m\u001b[43m_client\u001b[49m\u001b[38;5;241;43m.\u001b[39;49m\u001b[43mperform_request\u001b[49m\u001b[43m(\u001b[49m\n\u001b[0;32m    424\u001b[0m \u001b[43m        \u001b[49m\u001b[43mmethod\u001b[49m\u001b[43m,\u001b[49m\n\u001b[0;32m    425\u001b[0m \u001b[43m        \u001b[49m\u001b[43mpath\u001b[49m\u001b[43m,\u001b[49m\n\u001b[0;32m    426\u001b[0m \u001b[43m        \u001b[49m\u001b[43mparams\u001b[49m\u001b[38;5;241;43m=\u001b[39;49m\u001b[43mparams\u001b[49m\u001b[43m,\u001b[49m\n\u001b[0;32m    427\u001b[0m \u001b[43m        \u001b[49m\u001b[43mheaders\u001b[49m\u001b[38;5;241;43m=\u001b[39;49m\u001b[43mheaders\u001b[49m\u001b[43m,\u001b[49m\n\u001b[0;32m    428\u001b[0m \u001b[43m        \u001b[49m\u001b[43mbody\u001b[49m\u001b[38;5;241;43m=\u001b[39;49m\u001b[43mbody\u001b[49m\u001b[43m,\u001b[49m\n\u001b[0;32m    429\u001b[0m \u001b[43m        \u001b[49m\u001b[43mendpoint_id\u001b[49m\u001b[38;5;241;43m=\u001b[39;49m\u001b[43mendpoint_id\u001b[49m\u001b[43m,\u001b[49m\n\u001b[0;32m    430\u001b[0m \u001b[43m        \u001b[49m\u001b[43mpath_parts\u001b[49m\u001b[38;5;241;43m=\u001b[39;49m\u001b[43mpath_parts\u001b[49m\u001b[43m,\u001b[49m\n\u001b[0;32m    431\u001b[0m \u001b[43m    \u001b[49m\u001b[43m)\u001b[49m\n",
      "File \u001b[1;32m~\\AppData\\Roaming\\Python\\Python312\\site-packages\\elasticsearch\\_sync\\client\\_base.py:271\u001b[0m, in \u001b[0;36mBaseClient.perform_request\u001b[1;34m(self, method, path, params, headers, body, endpoint_id, path_parts)\u001b[0m\n\u001b[0;32m    255\u001b[0m \u001b[38;5;28;01mdef\u001b[39;00m \u001b[38;5;21mperform_request\u001b[39m(\n\u001b[0;32m    256\u001b[0m     \u001b[38;5;28mself\u001b[39m,\n\u001b[0;32m    257\u001b[0m     method: \u001b[38;5;28mstr\u001b[39m,\n\u001b[1;32m   (...)\u001b[0m\n\u001b[0;32m    264\u001b[0m     path_parts: Optional[Mapping[\u001b[38;5;28mstr\u001b[39m, Any]] \u001b[38;5;241m=\u001b[39m \u001b[38;5;28;01mNone\u001b[39;00m,\n\u001b[0;32m    265\u001b[0m ) \u001b[38;5;241m-\u001b[39m\u001b[38;5;241m>\u001b[39m ApiResponse[Any]:\n\u001b[0;32m    266\u001b[0m     \u001b[38;5;28;01mwith\u001b[39;00m \u001b[38;5;28mself\u001b[39m\u001b[38;5;241m.\u001b[39m_otel\u001b[38;5;241m.\u001b[39mspan(\n\u001b[0;32m    267\u001b[0m         method,\n\u001b[0;32m    268\u001b[0m         endpoint_id\u001b[38;5;241m=\u001b[39mendpoint_id,\n\u001b[0;32m    269\u001b[0m         path_parts\u001b[38;5;241m=\u001b[39mpath_parts \u001b[38;5;129;01mor\u001b[39;00m {},\n\u001b[0;32m    270\u001b[0m     ) \u001b[38;5;28;01mas\u001b[39;00m otel_span:\n\u001b[1;32m--> 271\u001b[0m         response \u001b[38;5;241m=\u001b[39m \u001b[38;5;28;43mself\u001b[39;49m\u001b[38;5;241;43m.\u001b[39;49m\u001b[43m_perform_request\u001b[49m\u001b[43m(\u001b[49m\n\u001b[0;32m    272\u001b[0m \u001b[43m            \u001b[49m\u001b[43mmethod\u001b[49m\u001b[43m,\u001b[49m\n\u001b[0;32m    273\u001b[0m \u001b[43m            \u001b[49m\u001b[43mpath\u001b[49m\u001b[43m,\u001b[49m\n\u001b[0;32m    274\u001b[0m \u001b[43m            \u001b[49m\u001b[43mparams\u001b[49m\u001b[38;5;241;43m=\u001b[39;49m\u001b[43mparams\u001b[49m\u001b[43m,\u001b[49m\n\u001b[0;32m    275\u001b[0m \u001b[43m            \u001b[49m\u001b[43mheaders\u001b[49m\u001b[38;5;241;43m=\u001b[39;49m\u001b[43mheaders\u001b[49m\u001b[43m,\u001b[49m\n\u001b[0;32m    276\u001b[0m \u001b[43m            \u001b[49m\u001b[43mbody\u001b[49m\u001b[38;5;241;43m=\u001b[39;49m\u001b[43mbody\u001b[49m\u001b[43m,\u001b[49m\n\u001b[0;32m    277\u001b[0m \u001b[43m            \u001b[49m\u001b[43motel_span\u001b[49m\u001b[38;5;241;43m=\u001b[39;49m\u001b[43motel_span\u001b[49m\u001b[43m,\u001b[49m\n\u001b[0;32m    278\u001b[0m \u001b[43m        \u001b[49m\u001b[43m)\u001b[49m\n\u001b[0;32m    279\u001b[0m         otel_span\u001b[38;5;241m.\u001b[39mset_elastic_cloud_metadata(response\u001b[38;5;241m.\u001b[39mmeta\u001b[38;5;241m.\u001b[39mheaders)\n\u001b[0;32m    280\u001b[0m         \u001b[38;5;28;01mreturn\u001b[39;00m response\n",
      "File \u001b[1;32m~\\AppData\\Roaming\\Python\\Python312\\site-packages\\elasticsearch\\_sync\\client\\_base.py:352\u001b[0m, in \u001b[0;36mBaseClient._perform_request\u001b[1;34m(self, method, path, params, headers, body, otel_span)\u001b[0m\n\u001b[0;32m    349\u001b[0m         \u001b[38;5;28;01mexcept\u001b[39;00m (\u001b[38;5;167;01mValueError\u001b[39;00m, \u001b[38;5;167;01mKeyError\u001b[39;00m, \u001b[38;5;167;01mTypeError\u001b[39;00m):\n\u001b[0;32m    350\u001b[0m             \u001b[38;5;28;01mpass\u001b[39;00m\n\u001b[1;32m--> 352\u001b[0m     \u001b[38;5;28;01mraise\u001b[39;00m HTTP_EXCEPTIONS\u001b[38;5;241m.\u001b[39mget(meta\u001b[38;5;241m.\u001b[39mstatus, ApiError)(\n\u001b[0;32m    353\u001b[0m         message\u001b[38;5;241m=\u001b[39mmessage, meta\u001b[38;5;241m=\u001b[39mmeta, body\u001b[38;5;241m=\u001b[39mresp_body\n\u001b[0;32m    354\u001b[0m     )\n\u001b[0;32m    356\u001b[0m \u001b[38;5;66;03m# 'X-Elastic-Product: Elasticsearch' should be on every 2XX response.\u001b[39;00m\n\u001b[0;32m    357\u001b[0m \u001b[38;5;28;01mif\u001b[39;00m \u001b[38;5;129;01mnot\u001b[39;00m \u001b[38;5;28mself\u001b[39m\u001b[38;5;241m.\u001b[39m_verified_elasticsearch:\n\u001b[0;32m    358\u001b[0m     \u001b[38;5;66;03m# If the header is set we mark the server as verified.\u001b[39;00m\n",
      "\u001b[1;31mBadRequestError\u001b[0m: BadRequestError(400, 'resource_already_exists_exception', 'index [movies/-VRJsezTTsewvPBf3g-wtA] already exists')"
     ]
    }
   ],
   "source": [
    "mappings={\n",
    "    \"properties\":{\n",
    "            \"title\":{\"type\":\"text\", \"analyzer\":\"english\"},\n",
    "            \"ethnicity\":{\"type\":\"text\", \"analyzer\":\"standard\"},\n",
    "            \"director\":{\"type\":\"text\", \"analyzer\":\"standard\"},\n",
    "            \"cast\":{\"type\":\"text\", \"analyzer\":\"standard\"},\n",
    "            \"genre\":{\"type\":\"text\", \"analyzer\":\"standard\"},\n",
    "            \"plot\":{\"type\":\"text\", \"analyzer\":\"english\"},\n",
    "            \"year\":{\"type\":\"integer\"},\n",
    "            \"wiki_page\":{\"type\":\"keyword\"}\n",
    "            }\n",
    "}\n",
    "client.indices.create(index=\"movies\" ,mappings=mappings)\n"
   ]
  },
  {
   "cell_type": "code",
   "execution_count": 8,
   "metadata": {},
   "outputs": [],
   "source": [
    "for i,row in df.iterrows():\n",
    "    doc={ \"title\":row[\"Title\"],\n",
    "          \"ethnicity\":row[\"Origin/Ethnicity\"],\n",
    "            \"director\":row[\"Director\"],\n",
    "            \"cast\":row[\"Cast\"],\n",
    "            \"genre\":row[\"Genre\"],\n",
    "            \"plot\":row[\"Plot\"],\n",
    "            \"year\":row[\"Release Year\"],\n",
    "            \"wiki_page\":row[\"Wiki Page\"]}\n",
    "    client.index(index=\"movies\" ,id=i,document=doc)"
   ]
  },
  {
   "cell_type": "code",
   "execution_count": 9,
   "metadata": {},
   "outputs": [
    {
     "data": {
      "text/plain": [
       "(5000, [])"
      ]
     },
     "execution_count": 9,
     "metadata": {},
     "output_type": "execute_result"
    }
   ],
   "source": [
    "from elasticsearch.helpers import bulk\n",
    "\n",
    "bulk_data=[]\n",
    "for i,row in df.iterrows():\n",
    "    bulk_data.append(\n",
    "        { \n",
    "            \"_index\": \"movies\",\n",
    "            \"_id\":i,\n",
    "            \"_source\":{\n",
    "                \"title\":row[\"Title\"],\n",
    "                \"ethnicity\":row[\"Origin/Ethnicity\"],\n",
    "                \"director\":row[\"Director\"],\n",
    "                \"cast\":row[\"Cast\"],\n",
    "                \"genre\":row[\"Genre\"],\n",
    "                \"plot\":row[\"Plot\"],\n",
    "                \"year\":row[\"Release Year\"],\n",
    "                \"wiki_page\":row[\"Wiki Page\"]}\n",
    "        }\n",
    "    )\n",
    "bulk(client,bulk_data)"
   ]
  },
  {
   "cell_type": "code",
   "execution_count": 10,
   "metadata": {},
   "outputs": [
    {
     "data": {
      "text/plain": [
       "TextApiResponse('1730240869 22:27:49 5000\\n')"
      ]
     },
     "execution_count": 10,
     "metadata": {},
     "output_type": "execute_result"
    }
   ],
   "source": [
    "client.indices.refresh(index=\"movies\")\n",
    "client.cat.count(index=\"movies\")\n"
   ]
  },
  {
   "cell_type": "markdown",
   "metadata": {},
   "source": [
    "# Suche in python"
   ]
  },
  {
   "cell_type": "code",
   "execution_count": null,
   "metadata": {},
   "outputs": [],
   "source": [
    "rsp=client.search(index=\"movies\",\n",
    "                  query={\n",
    "                      \n",
    "                      \"match_all\":{}\n",
    "                  }\n",
    ")\n",
    "print(rsp)\n",
    "\n",
    "rsp1=client.search(index=\"movies\",\n",
    "                  query={\n",
    "                      \n",
    "                      \"match\":{\"year\":1987}\n",
    "                  }\n",
    ")\n",
    "print(rsp1)"
   ]
  },
  {
   "cell_type": "code",
   "execution_count": null,
   "metadata": {},
   "outputs": [],
   "source": [
    "rsp=client.search(index=\"movies\",\n",
    "                  query={\n",
    "                    \"bool\":{\n",
    "                           \"must\" :{\n",
    "                               \"match_phrase\":{\n",
    "                                    \"cast\":\"jack nicholson\"\n",
    "                               }\n",
    "                           } ,\n",
    "                           \"filter\":{\n",
    "                               \"bool\": {\"must_not\":{ \n",
    "                                   \"match_phrase\":{\"director\":\"roman polanski\"}\n",
    "                               }}\n",
    "                           }\n",
    "                    } \n",
    "                  }\n",
    ")\n",
    "rsp.body"
   ]
  },
  {
   "cell_type": "code",
   "execution_count": null,
   "metadata": {},
   "outputs": [],
   "source": [
    "client.delete(index=\"movies\",id=\"461\")"
   ]
  },
  {
   "cell_type": "code",
   "execution_count": null,
   "metadata": {},
   "outputs": [],
   "source": [
    "client.indices.delete(index=\"movies\")"
   ]
  }
 ],
 "metadata": {
  "kernelspec": {
   "display_name": "Python 3",
   "language": "python",
   "name": "python3"
  },
  "language_info": {
   "codemirror_mode": {
    "name": "ipython",
    "version": 3
   },
   "file_extension": ".py",
   "mimetype": "text/x-python",
   "name": "python",
   "nbconvert_exporter": "python",
   "pygments_lexer": "ipython3",
   "version": "3.12.3"
  }
 },
 "nbformat": 4,
 "nbformat_minor": 2
}
